{
 "cells": [
  {
   "cell_type": "markdown",
   "metadata": {
    "id": "xGp4R4j8sChD"
   },
   "source": [
    "# Project Title : Grading of Diabetic Retinopathy  "
   ]
  },
  {
   "cell_type": "markdown",
   "metadata": {
    "id": "Y10MPhUx2Wcb"
   },
   "source": [
    "# **Import models**"
   ]
  },
  {
   "cell_type": "code",
   "execution_count": null,
   "metadata": {
    "id": "IXHLAnJ520PL"
   },
   "outputs": [],
   "source": [
    "from google.colab import drive\n",
    "drive.mount('/content/drive')"
   ]
  },
  {
   "cell_type": "code",
   "execution_count": null,
   "metadata": {
    "_cell_guid": "b1076dfc-b9ad-4769-8c92-a6c4dae69d19",
    "_uuid": "8f2839f25d086af736a60e9eeb907d3b93b6e0e5",
    "colab": {
     "base_uri": "https://localhost:8080/",
     "height": 197
    },
    "id": "G1-yzwJOGzn2",
    "outputId": "57b13ec4-d4d4-46ee-a4a2-9adb04bd3ab3"
   },
   "outputs": [],
   "source": [
    "import tensorflow as tf\n",
    "from tensorflow import keras\n",
    "import numpy as np # linear algebra\n",
    "import pandas as pd # data processing, CSV file I/O (e.g. pd.read_csv)\n",
    "import matplotlib.pyplot as plt\n",
    "import os\n",
    "print(os.listdir(\"/content/drive/MyDrive/4\"))"
   ]
  },
  {
   "cell_type": "code",
   "execution_count": null,
   "metadata": {
    "_cell_guid": "79c7e3d0-c299-4dcb-8224-4455121ee9b0",
    "_uuid": "d629ff2d2480ee46fbb7e2d37f6b5fab8052498a",
    "id": "AdUQgj6jGzn4"
   },
   "outputs": [],
   "source": [
    "PATH = '/content/drive/MyDrive/4'\n",
    "train = pd.read_csv(PATH + '/DR_id.csv')"
   ]
  },
  {
   "cell_type": "code",
   "execution_count": null,
   "metadata": {
    "colab": {
     "base_uri": "https://localhost:8080/",
     "height": 194
    },
    "id": "7eh-vVVNGzn5",
    "outputId": "773bbab3-9865-4e75-fa72-7133a09f0799"
   },
   "outputs": [],
   "source": [
    "train.head()"
   ]
  },
  {
   "cell_type": "markdown",
   "metadata": {
    "id": "Oh-LohJT3qot"
   },
   "source": [
    "# To check how many images are in each category"
   ]
  },
  {
   "cell_type": "code",
   "execution_count": null,
   "metadata": {
    "id": "DZemzpiBGzn5"
   },
   "outputs": [],
   "source": [
    "train['diagnosis'].value_counts().plot(kind = 'bar')"
   ]
  },
  {
   "cell_type": "markdown",
   "metadata": {
    "id": "djIIew-C3_Qa"
   },
   "source": [
    "# Total Number of Images"
   ]
  },
  {
   "cell_type": "code",
   "execution_count": null,
   "metadata": {
    "colab": {
     "base_uri": "https://localhost:8080/"
    },
    "id": "IAiTZC6_Gzn6",
    "outputId": "1c6c4f49-0a24-4711-84db-8f844dfb4009"
   },
   "outputs": [],
   "source": [
    "train['diagnosis'].value_counts().sort_index()[0]"
   ]
  },
  {
   "cell_type": "code",
   "execution_count": null,
   "metadata": {
    "colab": {
     "base_uri": "https://localhost:8080/"
    },
    "id": "tuOPm9_bGzn6",
    "outputId": "e71fab8e-6611-439c-bc30-2c050914a3f8"
   },
   "outputs": [],
   "source": [
    "total = train['diagnosis'].value_counts().sum()\n",
    "w0 = train['diagnosis'].value_counts().sort_index()[0] / total\n",
    "w1 = train['diagnosis'].value_counts().sort_index()[1] / total\n",
    "w2 = train['diagnosis'].value_counts().sort_index()[2] / total\n",
    "w3 = train['diagnosis'].value_counts().sort_index()[3] / total\n",
    "w4 = train['diagnosis'].value_counts().sort_index()[4] / total\n",
    "class_wg = {0: w3, 1: w1, 2: w4, 3: w0, 4: w2}\n",
    "#class_wg = {0: w0, 1: w1, 2: w2, 3: w3, 4: w4}\n",
    "\n",
    "print('class weights:')\n",
    "print('0: ', w0)\n",
    "print('1: ', w1)\n",
    "print('2: ', w2)\n",
    "print('3: ', w3)\n",
    "print('4: ', w4)"
   ]
  },
  {
   "cell_type": "code",
   "execution_count": null,
   "metadata": {
    "colab": {
     "base_uri": "https://localhost:8080/"
    },
    "id": "jABpOQIivrO0",
    "outputId": "ff9c041f-2de3-42de-8486-cd509488633d"
   },
   "outputs": [],
   "source": [
    "print(train['diagnosis'].value_counts())"
   ]
  },
  {
   "cell_type": "code",
   "execution_count": null,
   "metadata": {
    "colab": {
     "base_uri": "https://localhost:8080/",
     "height": 287
    },
    "id": "WzyslCCeGzn7",
    "outputId": "c930c242-1f67-4aa2-ab95-32107730568d"
   },
   "outputs": [],
   "source": [
    "from keras.preprocessing import image\n",
    "from keras.applications.imagenet_utils import preprocess_input\n",
    "\n",
    "img = image.load_img(PATH + '/train/' + train['id_code'][0] + '.png', target_size = (240, 240, 3))\n",
    "plt.imshow(img)\n"
   ]
  },
  {
   "cell_type": "markdown",
   "metadata": {
    "id": "tbwcC-rb4hSl"
   },
   "source": [
    "# Loading All Images"
   ]
  },
  {
   "cell_type": "code",
   "execution_count": null,
   "metadata": {
    "id": "hS59YaGUGzn7"
   },
   "outputs": [],
   "source": [
    "from keras.preprocessing import image\n",
    "from keras.applications.imagenet_utils import preprocess_input\n",
    "def load_images(df, dfPath):\n",
    "    xdata = np.zeros((df.shape[0], 100, 100, 3))\n",
    "    index = 0\n",
    "    for id_code in df['id_code']:\n",
    "        img = image.load_img(PATH + dfPath + '/' + id_code + '.png', target_size = (240, 240, 3))\n",
    "        x = image.img_to_array(img)\n",
    "        x = preprocess_input(x)\n",
    "        xdata[index] = x\n",
    "        index += 1\n",
    "    xdata = xdata / 255.0\n",
    "    return xdata       "
   ]
  },
  {
   "cell_type": "code",
   "execution_count": null,
   "metadata": {
    "id": "xNyBwtcKGzn7"
   },
   "outputs": [],
   "source": [
    "x_train = train.drop(['diagnosis'], axis = 1)\n",
    "y_train = train['diagnosis']"
   ]
  },
  {
   "cell_type": "code",
   "execution_count": null,
   "metadata": {
    "id": "na-iKoyTGzn8"
   },
   "outputs": [],
   "source": [
    "trainpath = '/train/'\n",
    "x_train = load_images(train, trainpath)"
   ]
  },
  {
   "cell_type": "code",
   "execution_count": null,
   "metadata": {
    "colab": {
     "base_uri": "https://localhost:8080/",
     "height": 304
    },
    "id": "AqIEEM3nGzn8",
    "outputId": "4f326dca-bb1e-43a5-c0b8-0e70bf8f0cd7"
   },
   "outputs": [],
   "source": [
    "plt.imshow(x_train[0][:,:,:])"
   ]
  },
  {
   "cell_type": "code",
   "execution_count": null,
   "metadata": {
    "colab": {
     "base_uri": "https://localhost:8080/",
     "height": 304
    },
    "id": "IuDqffFNGzn9",
    "outputId": "47a1ef18-f5be-417b-e0f4-fbfe713b2718"
   },
   "outputs": [],
   "source": [
    "plt.imshow(x_train[0])"
   ]
  },
  {
   "cell_type": "code",
   "execution_count": null,
   "metadata": {
    "colab": {
     "base_uri": "https://localhost:8080/",
     "height": 286
    },
    "id": "V_yhkTWIGzn9",
    "outputId": "80128f9a-b7c2-4dd2-c394-8b8ae4627447"
   },
   "outputs": [],
   "source": [
    "plt.imshow(x_train[0][:,:,2])"
   ]
  },
  {
   "cell_type": "code",
   "execution_count": null,
   "metadata": {
    "colab": {
     "base_uri": "https://localhost:8080/"
    },
    "id": "iPN6BcUIGzn9",
    "outputId": "d852e078-f33e-4d30-ba06-116837b60478"
   },
   "outputs": [],
   "source": [
    "y_train.head()"
   ]
  },
  {
   "cell_type": "code",
   "execution_count": null,
   "metadata": {
    "colab": {
     "base_uri": "https://localhost:8080/"
    },
    "id": "QxWJNGzNGzn9",
    "outputId": "bcfb183a-bece-4f52-dd90-900b6516d908"
   },
   "outputs": [],
   "source": [
    "print(y_train.shape)"
   ]
  },
  {
   "cell_type": "code",
   "execution_count": null,
   "metadata": {
    "id": "zF0sprwuGzn-"
   },
   "outputs": [],
   "source": [
    "del train"
   ]
  },
  {
   "cell_type": "code",
   "execution_count": null,
   "metadata": {
    "id": "5xiPlu00Gzn-"
   },
   "outputs": [],
   "source": [
    "from sklearn.preprocessing import LabelEncoder\n",
    "from keras.utils.np_utils import to_categorical\n",
    "\n",
    "lb = LabelEncoder()\n",
    "y_train = lb.fit_transform(y_train)\n",
    "y_train = to_categorical(y_train, num_classes = 5)"
   ]
  },
  {
   "cell_type": "code",
   "execution_count": null,
   "metadata": {
    "colab": {
     "base_uri": "https://localhost:8080/"
    },
    "id": "zg1Me4AjGzn-",
    "outputId": "e0bdd891-d3f1-4e91-ac46-3ec2e7113041"
   },
   "outputs": [],
   "source": [
    "y_train"
   ]
  },
  {
   "cell_type": "markdown",
   "metadata": {
    "id": "Q8kKsw1E5Aal"
   },
   "source": [
    "# Creating of CNN Model"
   ]
  },
  {
   "cell_type": "code",
   "execution_count": null,
   "metadata": {
    "colab": {
     "base_uri": "https://localhost:8080/"
    },
    "id": "xDCbagHFGzn-",
    "outputId": "90862d02-7993-4c2e-f5c7-2b3be74081af"
   },
   "outputs": [],
   "source": [
    "from keras.models import Sequential\n",
    "from keras.layers import Dense, Dropout, Flatten\n",
    "from keras.layers.convolutional import Conv2D, MaxPooling2D\n",
    "\n",
    "model = Sequential()\n",
    "\n",
    "model.add(Conv2D(filters = 30, kernel_size = (5, 5), input_shape = (100, 100, 3), activation = 'relu'))\n",
    "model.add(MaxPooling2D(pool_size = (2, 2)))\n",
    "model.add(Dropout(0.2))\n",
    "\n",
    "model.add(Conv2D(filters = 15, kernel_size = (3, 3), activation = 'relu'))\n",
    "model.add(Conv2D(filters = 15, kernel_size = (3, 3), activation = 'relu'))\n",
    "model.add(MaxPooling2D(pool_size = (2, 2)))\n",
    "model.add(Conv2D(filters = 15, kernel_size = (3, 3), activation = 'relu'))\n",
    "model.add(MaxPooling2D(pool_size = (2, 2)))\n",
    "model.add(Conv2D(filters = 15, kernel_size = (3, 3), activation = 'relu'))\n",
    "model.add(MaxPooling2D(pool_size = (2, 2)))\n",
    "model.add(Conv2D(filters = 15, kernel_size = (3, 3), activation = 'relu'))\n",
    "model.add(MaxPooling2D(pool_size = (2, 2)))\n",
    "\n",
    "model.add(Dropout(0.2))\n",
    "\n",
    "\n",
    "model.add(Flatten())\n",
    "model.add(Dense(128, activation = 'relu'))\n",
    "\n",
    "model.add(Dense(64, activation = 'relu'))\n",
    "\n",
    "model.add(Dense(32, activation = 'relu'))\n",
    "\n",
    "model.add(Dense(5, activation = 'softmax'))\n",
    "\n",
    "\n",
    "model.summary()\n"
   ]
  },
  {
   "cell_type": "code",
   "execution_count": null,
   "metadata": {
    "id": "17Eh_ftXbrxt"
   },
   "outputs": [],
   "source": []
  },
  {
   "cell_type": "code",
   "execution_count": null,
   "metadata": {
    "id": "WA7TJ0spMiZe"
   },
   "outputs": [],
   "source": [
    "from tensorflow.keras.callbacks import ReduceLROnPlateau, EarlyStopping, ModelCheckpoint, LearningRateScheduler\n",
    "import tensorflow.keras.backend as K\n",
    "earlystopping = EarlyStopping(monitor='val_loss', \n",
    "                              mode='min', \n",
    "                              verbose=1, \n",
    "                              patience=8\n",
    "                             )\n",
    "checkpointer = ModelCheckpoint(filepath=\"clf-CNN-weights.hdf5\", \n",
    "                               verbose=1, \n",
    "                               save_best_only=True\n",
    "                              )\n",
    "reduce_lr = ReduceLROnPlateau(monitor='val_loss',\n",
    "                              mode='min',\n",
    "                              verbose=1,\n",
    "                              patience=3,\n",
    "                              min_delta=0.0001,\n",
    "                              factor=0.2\n",
    "                             )\n",
    "callbacks = [checkpointer, earlystopping, reduce_lr]"
   ]
  },
  {
   "cell_type": "code",
   "execution_count": null,
   "metadata": {
    "colab": {
     "base_uri": "https://localhost:8080/"
    },
    "id": "knYMeSzhGzn_",
    "outputId": "d2425452-ee35-49a1-a7da-d3be9708017d"
   },
   "outputs": [],
   "source": [
    "import keras\n",
    "model.compile(loss='binary_crossentropy', optimizer='adam', metrics=['accuracy'])\n",
    "history=model.fit(x_train, y_train,validation_split = 0.2, epochs = 50, batch_size = 128, class_weight = class_wg,callbacks = [checkpointer, earlystopping])\n"
   ]
  },
  {
   "cell_type": "code",
   "execution_count": null,
   "metadata": {
    "colab": {
     "base_uri": "https://localhost:8080/",
     "height": 591
    },
    "id": "Vw224WDRWs2e",
    "outputId": "b4b4489d-958e-428f-e9b1-8605da47deab"
   },
   "outputs": [],
   "source": [
    "print(history.history.keys())\n",
    "#  \"Accuracy\"\n",
    "plt.plot(history.history['accuracy'])\n",
    "plt.plot(history.history['val_accuracy'])\n",
    "plt.title('Model accuracy')\n",
    "plt.ylabel('Accuracy')\n",
    "plt.xlabel('Epoch')\n",
    "plt.legend(['train', 'validation'], loc='upper left')\n",
    "plt.show()\n",
    "# \"Loss\"\n",
    "plt.plot(history.history['loss'])\n",
    "plt.plot(history.history['val_loss'])\n",
    "plt.title('Model loss')\n",
    "plt.ylabel('Loss')\n",
    "plt.xlabel('Epoch')\n",
    "plt.legend(['train', 'validation'], loc='upper left')\n",
    "plt.show()"
   ]
  },
  {
   "cell_type": "code",
   "execution_count": null,
   "metadata": {
    "colab": {
     "base_uri": "https://localhost:8080/",
     "height": 591
    },
    "id": "HoKPVif1mton",
    "outputId": "1ddb5688-cf4d-46d4-afa8-bb16f3b388bf"
   },
   "outputs": [],
   "source": [
    "print(history.history.keys())\n",
    "#  \"Accuracy\"\n",
    "plt.plot(history.history['accuracy'])\n",
    "\n",
    "plt.title('model accuracy')\n",
    "plt.ylabel('accuracy')\n",
    "plt.xlabel('epoch')\n",
    "plt.legend(['train'], loc='upper left')\n",
    "plt.show()\n",
    "# \"Loss\"\n",
    "plt.plot(history.history['loss'])\n",
    "\n",
    "plt.title('model loss')\n",
    "plt.ylabel('loss')\n",
    "plt.xlabel('epoch')\n",
    "plt.legend(['train'], loc='upper left')\n",
    "plt.show()"
   ]
  },
  {
   "cell_type": "code",
   "execution_count": null,
   "metadata": {
    "colab": {
     "base_uri": "https://localhost:8080/",
     "height": 591
    },
    "id": "c9LwRnfKV6vl",
    "outputId": "cb81f3fb-61a4-4593-f7d6-952c90a968bc"
   },
   "outputs": [],
   "source": [
    "print(history.history.keys())\n",
    "#  \"Accuracy\"\n",
    "\n",
    "plt.plot(history.history['val_accuracy'])\n",
    "plt.title('model accuracy')\n",
    "plt.ylabel('accuracy')\n",
    "plt.xlabel('epoch')\n",
    "plt.legend([ 'validation'], loc='upper left')\n",
    "plt.show()\n",
    "# \"Loss\"\n",
    "\n",
    "plt.plot(history.history['val_loss'])\n",
    "plt.title('model loss')\n",
    "plt.ylabel('loss')\n",
    "plt.xlabel('epoch')\n",
    "plt.legend([ 'validation'], loc='upper left')\n",
    "plt.show()"
   ]
  },
  {
   "cell_type": "markdown",
   "metadata": {
    "id": "2x1PDVM0s6OI"
   },
   "source": [
    "# Testing"
   ]
  },
  {
   "cell_type": "code",
   "execution_count": null,
   "metadata": {
    "id": "5aD3qS7kGzn_"
   },
   "outputs": [],
   "source": [
    "del x_train, y_train"
   ]
  },
  {
   "cell_type": "code",
   "execution_count": null,
   "metadata": {
    "id": "hKqAd4QEGzn_"
   },
   "outputs": [],
   "source": [
    "testPath = '/train/'\n",
    "test = pd.read_csv(PATH + '/1.csv')\n",
    "test=test.drop(['diagnosis'], axis=1)"
   ]
  },
  {
   "cell_type": "code",
   "execution_count": null,
   "metadata": {
    "colab": {
     "base_uri": "https://localhost:8080/",
     "height": 194
    },
    "id": "6_DDvQ6kGzn_",
    "outputId": "528351dd-5c63-4f8e-da54-f7d330e9433a"
   },
   "outputs": [],
   "source": [
    "test.head()"
   ]
  },
  {
   "cell_type": "code",
   "execution_count": null,
   "metadata": {
    "id": "Vh87myt4FZs9"
   },
   "outputs": [],
   "source": [
    "x_test = load_images(test,testPath)"
   ]
  },
  {
   "cell_type": "code",
   "execution_count": null,
   "metadata": {
    "colab": {
     "base_uri": "https://localhost:8080/"
    },
    "id": "JoTUd2kHGzoA",
    "outputId": "fac2bef4-8815-44a4-9118-6a5f1a0c61bb"
   },
   "outputs": [],
   "source": [
    "predictions = model.predict(x_test, verbose = 1)\n"
   ]
  },
  {
   "cell_type": "code",
   "execution_count": null,
   "metadata": {
    "id": "KI7mbu7V0e-4"
   },
   "outputs": [],
   "source": [
    "print(predictions)\n"
   ]
  },
  {
   "cell_type": "code",
   "execution_count": null,
   "metadata": {
    "id": "0vVk6_TtGzoA"
   },
   "outputs": [],
   "source": [
    "for i in range(len(test)):\n",
    "    test.loc[i, 'diagnosis'] = np.argmax(predictions[i - 1])\n",
    "test['diagnosis'] = test['diagnosis'].astype('int')"
   ]
  },
  {
   "cell_type": "code",
   "execution_count": null,
   "metadata": {
    "colab": {
     "base_uri": "https://localhost:8080/",
     "height": 370
    },
    "id": "_Y7lFWlPGzoA",
    "outputId": "6d5d4278-62e3-4087-d422-1d957eebbd7b"
   },
   "outputs": [],
   "source": [
    "test.head(11)"
   ]
  },
  {
   "cell_type": "code",
   "execution_count": null,
   "metadata": {
    "id": "skGNuT77GzoA"
   },
   "outputs": [],
   "source": [
    "test.to_csv('prediction_m.csv', index = False)"
   ]
  },
  {
   "cell_type": "code",
   "execution_count": null,
   "metadata": {
    "colab": {
     "base_uri": "https://localhost:8080/"
    },
    "id": "OGRoAPL45Gqg",
    "outputId": "ed491666-06b2-4563-c4f5-3876f90cc394"
   },
   "outputs": [],
   "source": [
    "y_pred=model.predict_classes(x_test, verbose = 1)\n",
    "for i in y_pred:\n",
    "    print(i)"
   ]
  },
  {
   "cell_type": "code",
   "execution_count": null,
   "metadata": {
    "id": "jNRGhLp37XS8"
   },
   "outputs": [],
   "source": [
    "pred = pd.read_csv('/content/drive/MyDrive/4/pread.csv')\n"
   ]
  },
  {
   "cell_type": "code",
   "execution_count": null,
   "metadata": {
    "colab": {
     "base_uri": "https://localhost:8080/",
     "height": 194
    },
    "id": "NzBKcus7kVXZ",
    "outputId": "64454559-49bb-4f89-876e-9382a3039c2e"
   },
   "outputs": [],
   "source": [
    "testPath = '/train/'\n",
    "test1 = pd.read_csv(PATH + '/pread.csv')\n",
    "test1.head()"
   ]
  },
  {
   "cell_type": "markdown",
   "metadata": {
    "id": "O39rTug1tFdd"
   },
   "source": [
    "# Confusion matrix "
   ]
  },
  {
   "cell_type": "code",
   "execution_count": null,
   "metadata": {
    "id": "a7Kg_yKElYjj"
   },
   "outputs": [],
   "source": [
    "%matplotlib inline\n",
    "from sklearn.metrics import confusion_matrix\n",
    "import itertools\n",
    "import matplotlib.pyplot as plt\n",
    "cm = confusion_matrix(y_true=test1['diagnosis'][0:1490], y_pred=pred['diagnosis'])"
   ]
  },
  {
   "cell_type": "code",
   "execution_count": null,
   "metadata": {
    "id": "5gXALyM-lYmB"
   },
   "outputs": [],
   "source": [
    "def plot_confusion_matrix(cm, classes,\n",
    "                        normalize=False,\n",
    "                        title='Confusion matrix',\n",
    "                        cmap=plt.cm.Blues):\n",
    "    \"\"\"\n",
    "    This function prints and plots the confusion matrix.\n",
    "    Normalization can be applied by setting `normalize=True`.\n",
    "    \"\"\"\n",
    "    plt.imshow(cm, interpolation='nearest', cmap=cmap)\n",
    "    plt.title(title)\n",
    "    plt.colorbar()\n",
    "    tick_marks = np.arange(len(classes))\n",
    "    plt.xticks(tick_marks, classes, rotation=45)\n",
    "    plt.yticks(tick_marks, classes)\n",
    "\n",
    "    if normalize:\n",
    "        cm = cm.astype('float') / cm.sum(axis=1)[:, np.newaxis]\n",
    "        print(\"Normalized confusion matrix\")\n",
    "    else:\n",
    "        print('Confusion matrix, without normalization')\n",
    "\n",
    "    print(cm)\n",
    "\n",
    "    thresh = cm.max() / 2.\n",
    "    for i, j in itertools.product(range(cm.shape[0]), range(cm.shape[1])):\n",
    "        plt.text(j, i, cm[i, j],\n",
    "            horizontalalignment=\"center\",\n",
    "            color=\"white\" if cm[i, j] > thresh else \"black\")\n",
    "\n",
    "    plt.tight_layout()\n",
    "    plt.ylabel('True label')\n",
    "    plt.xlabel('Predicted label')"
   ]
  },
  {
   "cell_type": "code",
   "execution_count": null,
   "metadata": {
    "colab": {
     "base_uri": "https://localhost:8080/",
     "height": 418
    },
    "id": "Y8LQyv8XlYo3",
    "outputId": "52b40e95-9188-42b1-e78a-292c2688cacb"
   },
   "outputs": [],
   "source": [
    "cm_plot_labels = ['0', '1', '2', '3', '4']\n",
    "plot_confusion_matrix(cm=cm, classes=cm_plot_labels, title='Confusion Matrix')"
   ]
  },
  {
   "cell_type": "code",
   "execution_count": null,
   "metadata": {
    "colab": {
     "base_uri": "https://localhost:8080/"
    },
    "id": "LsKxLnvtlk3x",
    "outputId": "2b02e649-59c7-4f01-e40e-bc75e4ec5fb0"
   },
   "outputs": [],
   "source": [
    "from sklearn.metrics import accuracy_score\n",
    "accuracy_score(y_true=test1['diagnosis'][0:1490], y_pred=pred['diagnosis'])\n"
   ]
  },
  {
   "cell_type": "code",
   "execution_count": null,
   "metadata": {
    "id": "7EXdA8XUnmLA"
   },
   "outputs": [],
   "source": [
    "y_true=test1['diagnosis'][0:1490]\n",
    "y_pred=pred['diagnosis']"
   ]
  },
  {
   "cell_type": "code",
   "execution_count": null,
   "metadata": {
    "colab": {
     "base_uri": "https://localhost:8080/"
    },
    "id": "PV5MARKtllJA",
    "outputId": "20d5c991-6382-41f5-a851-4e4396bc0b59"
   },
   "outputs": [],
   "source": [
    "\n",
    "# Finding precision and recall\n",
    "from sklearn.metrics import precision_score, recall_score\n",
    "\n",
    "precision_score(y_true, y_pred, average=None, zero_division=1)"
   ]
  }
 ],
 "metadata": {
  "accelerator": "GPU",
  "colab": {
   "collapsed_sections": [],
   "name": "minorrfinal.ipynb",
   "provenance": [],
   "toc_visible": true
  },
  "kernelspec": {
   "display_name": "Python 3",
   "language": "python",
   "name": "python3"
  },
  "language_info": {
   "codemirror_mode": {
    "name": "ipython",
    "version": 3
   },
   "file_extension": ".py",
   "mimetype": "text/x-python",
   "name": "python",
   "nbconvert_exporter": "python",
   "pygments_lexer": "ipython3",
   "version": "3.7.9"
  }
 },
 "nbformat": 4,
 "nbformat_minor": 1
}
